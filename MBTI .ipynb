{
 "cells": [
  {
   "cell_type": "code",
   "execution_count": 1,
   "id": "081449f5",
   "metadata": {},
   "outputs": [],
   "source": [
    "\n",
    "import numpy as np \n",
    "import pandas as pd \n",
    "\n",
    "import re\n",
    "import string\n",
    "from sklearn.feature_extraction.text import CountVectorizer, TfidfTransformer\n",
    "from sklearn.preprocessing import LabelEncoder\n",
    "from sklearn.linear_model import LogisticRegression\n",
    "from sklearn.model_selection import train_test_split, RandomizedSearchCV, GridSearchCV, StratifiedKFold\n",
    "from xgboost import XGBClassifier,plot_importance\n",
    "from sklearn.metrics import accuracy_score, roc_auc_score\n",
    "from sklearn.feature_selection import SelectFromModel\n",
    "from itertools import compress\n",
    "\n",
    "import seaborn as sns\n",
    "import matplotlib.pyplot as plt\n"
   ]
  },
  {
   "cell_type": "code",
   "execution_count": 2,
   "id": "71818a56",
   "metadata": {},
   "outputs": [],
   "source": [
    "df = pd.read_csv(r'C:\\Users\\HP\\OneDrive\\Desktop\\VI Pro\\mbti_1.csv')"
   ]
  },
  {
   "cell_type": "code",
   "execution_count": 3,
   "id": "4d0a1591",
   "metadata": {},
   "outputs": [
    {
     "data": {
      "text/html": [
       "<div>\n",
       "<style scoped>\n",
       "    .dataframe tbody tr th:only-of-type {\n",
       "        vertical-align: middle;\n",
       "    }\n",
       "\n",
       "    .dataframe tbody tr th {\n",
       "        vertical-align: top;\n",
       "    }\n",
       "\n",
       "    .dataframe thead th {\n",
       "        text-align: right;\n",
       "    }\n",
       "</style>\n",
       "<table border=\"1\" class=\"dataframe\">\n",
       "  <thead>\n",
       "    <tr style=\"text-align: right;\">\n",
       "      <th></th>\n",
       "      <th>type</th>\n",
       "      <th>posts</th>\n",
       "    </tr>\n",
       "  </thead>\n",
       "  <tbody>\n",
       "    <tr>\n",
       "      <th>0</th>\n",
       "      <td>INFJ</td>\n",
       "      <td>'http://www.youtube.com/watch?v=qsXHcwe3krw|||...</td>\n",
       "    </tr>\n",
       "    <tr>\n",
       "      <th>1</th>\n",
       "      <td>ENTP</td>\n",
       "      <td>'I'm finding the lack of me in these posts ver...</td>\n",
       "    </tr>\n",
       "    <tr>\n",
       "      <th>2</th>\n",
       "      <td>INTP</td>\n",
       "      <td>'Good one  _____   https://www.youtube.com/wat...</td>\n",
       "    </tr>\n",
       "    <tr>\n",
       "      <th>3</th>\n",
       "      <td>INTJ</td>\n",
       "      <td>'Dear INTP,   I enjoyed our conversation the o...</td>\n",
       "    </tr>\n",
       "    <tr>\n",
       "      <th>4</th>\n",
       "      <td>ENTJ</td>\n",
       "      <td>'You're fired.|||That's another silly misconce...</td>\n",
       "    </tr>\n",
       "  </tbody>\n",
       "</table>\n",
       "</div>"
      ],
      "text/plain": [
       "   type                                              posts\n",
       "0  INFJ  'http://www.youtube.com/watch?v=qsXHcwe3krw|||...\n",
       "1  ENTP  'I'm finding the lack of me in these posts ver...\n",
       "2  INTP  'Good one  _____   https://www.youtube.com/wat...\n",
       "3  INTJ  'Dear INTP,   I enjoyed our conversation the o...\n",
       "4  ENTJ  'You're fired.|||That's another silly misconce..."
      ]
     },
     "execution_count": 3,
     "metadata": {},
     "output_type": "execute_result"
    }
   ],
   "source": [
    "df.head()"
   ]
  },
  {
   "cell_type": "code",
   "execution_count": 4,
   "id": "7880724b",
   "metadata": {},
   "outputs": [
    {
     "data": {
      "text/plain": [
       "INFP    1832\n",
       "INFJ    1470\n",
       "INTP    1304\n",
       "INTJ    1091\n",
       "ENTP     685\n",
       "ENFP     675\n",
       "ISTP     337\n",
       "ISFP     271\n",
       "ENTJ     231\n",
       "ISTJ     205\n",
       "ENFJ     190\n",
       "ISFJ     166\n",
       "ESTP      89\n",
       "ESFP      48\n",
       "ESFJ      42\n",
       "ESTJ      39\n",
       "Name: type, dtype: int64"
      ]
     },
     "execution_count": 4,
     "metadata": {},
     "output_type": "execute_result"
    }
   ],
   "source": [
    "dist = df['type'].value_counts()\n",
    "dist"
   ]
  },
  {
   "cell_type": "code",
   "execution_count": 5,
   "id": "c1376718",
   "metadata": {},
   "outputs": [
    {
     "data": {
      "text/plain": [
       "Index(['INFP', 'INFJ', 'INTP', 'INTJ', 'ENTP', 'ENFP', 'ISTP', 'ISFP', 'ENTJ',\n",
       "       'ISTJ', 'ENFJ', 'ISFJ', 'ESTP', 'ESFP', 'ESFJ', 'ESTJ'],\n",
       "      dtype='object')"
      ]
     },
     "execution_count": 5,
     "metadata": {},
     "output_type": "execute_result"
    }
   ],
   "source": [
    "dist.index"
   ]
  },
  {
   "cell_type": "code",
   "execution_count": 6,
   "id": "a93f6f74",
   "metadata": {},
   "outputs": [
    {
     "data": {
      "image/png": "[encoded data removed]",
      "text/plain": [
       "<Figure size 432x288 with 1 Axes>"
      ]
     },
     "metadata": {
      "needs_background": "light"
     },
     "output_type": "display_data"
    }
   ],
   "source": [
    "plt.hlines(y=list(range(16)), xmin=0, xmax=dist, color='skyblue')\n",
    "plt.plot(dist, list(range(16)), \"D\")\n",
    "# plt.stem(dist)\n",
    "plt.yticks(list(range(16)), dist.index)\n",
    "plt.show()"
   ]
  },
  {
   "cell_type": "code",
   "execution_count": 7,
   "id": "066ac7ce",
   "metadata": {},
   "outputs": [
    {
     "data": {
      "text/html": [
       "<div>\n",
       "<style scoped>\n",
       "    .dataframe tbody tr th:only-of-type {\n",
       "        vertical-align: middle;\n",
       "    }\n",
       "\n",
       "    .dataframe tbody tr th {\n",
       "        vertical-align: top;\n",
       "    }\n",
       "\n",
       "    .dataframe thead th {\n",
       "        text-align: right;\n",
       "    }\n",
       "</style>\n",
       "<table border=\"1\" class=\"dataframe\">\n",
       "  <thead>\n",
       "    <tr style=\"text-align: right;\">\n",
       "      <th></th>\n",
       "      <th>type</th>\n",
       "      <th>posts</th>\n",
       "      <th>seperated_post</th>\n",
       "      <th>num_post</th>\n",
       "    </tr>\n",
       "  </thead>\n",
       "  <tbody>\n",
       "    <tr>\n",
       "      <th>0</th>\n",
       "      <td>INFJ</td>\n",
       "      <td>'http://www.youtube.com/watch?v=qsXHcwe3krw|||...</td>\n",
       "      <td>['http://www.youtube.com/watch?v=qsXHcwe3krw, ...</td>\n",
       "      <td>50</td>\n",
       "    </tr>\n",
       "    <tr>\n",
       "      <th>1</th>\n",
       "      <td>ENTP</td>\n",
       "      <td>'I'm finding the lack of me in these posts ver...</td>\n",
       "      <td>['I'm finding the lack of me in these posts ve...</td>\n",
       "      <td>50</td>\n",
       "    </tr>\n",
       "    <tr>\n",
       "      <th>2</th>\n",
       "      <td>INTP</td>\n",
       "      <td>'Good one  _____   https://www.youtube.com/wat...</td>\n",
       "      <td>['Good one  _____   https://www.youtube.com/wa...</td>\n",
       "      <td>50</td>\n",
       "    </tr>\n",
       "    <tr>\n",
       "      <th>3</th>\n",
       "      <td>INTJ</td>\n",
       "      <td>'Dear INTP,   I enjoyed our conversation the o...</td>\n",
       "      <td>['Dear INTP,   I enjoyed our conversation the ...</td>\n",
       "      <td>50</td>\n",
       "    </tr>\n",
       "    <tr>\n",
       "      <th>4</th>\n",
       "      <td>ENTJ</td>\n",
       "      <td>'You're fired.|||That's another silly misconce...</td>\n",
       "      <td>['You're fired., That's another silly misconce...</td>\n",
       "      <td>50</td>\n",
       "    </tr>\n",
       "  </tbody>\n",
       "</table>\n",
       "</div>"
      ],
      "text/plain": [
       "   type                                              posts  \\\n",
       "0  INFJ  'http://www.youtube.com/watch?v=qsXHcwe3krw|||...   \n",
       "1  ENTP  'I'm finding the lack of me in these posts ver...   \n",
       "2  INTP  'Good one  _____   https://www.youtube.com/wat...   \n",
       "3  INTJ  'Dear INTP,   I enjoyed our conversation the o...   \n",
       "4  ENTJ  'You're fired.|||That's another silly misconce...   \n",
       "\n",
       "                                      seperated_post  num_post  \n",
       "0  ['http://www.youtube.com/watch?v=qsXHcwe3krw, ...        50  \n",
       "1  ['I'm finding the lack of me in these posts ve...        50  \n",
       "2  ['Good one  _____   https://www.youtube.com/wa...        50  \n",
       "3  ['Dear INTP,   I enjoyed our conversation the ...        50  \n",
       "4  ['You're fired., That's another silly misconce...        50  "
      ]
     },
     "execution_count": 7,
     "metadata": {},
     "output_type": "execute_result"
    }
   ],
   "source": [
    "df['seperated_post'] = df['posts'].apply(lambda x: x.strip().split(\"|||\"))\n",
    "df['num_post'] = df['seperated_post'].apply(lambda x: len(x))\n",
    "df.head()"
   ]
  },
  {
   "cell_type": "code",
   "execution_count": 8,
   "id": "0c3281ee",
   "metadata": {},
   "outputs": [
    {
     "data": {
      "text/plain": [
       "[\"'I'm finding the lack of me in these posts very alarming.\",\n",
       " \"Sex can be boring if it's in the same position often. For example me and my girlfriend are currently in an environment where we have to creatively use cowgirl and missionary. There isn't enough...\",\n",
       " \"Giving new meaning to 'Game' theory.\",\n",
       " \"Hello *ENTP Grin*  That's all it takes. Than we converse and they do most of the flirting while I acknowledge their presence and return their words with smooth wordplay and more cheeky grins.\",\n",
       " 'This + Lack of Balance and Hand Eye Coordination.',\n",
       " \"Real IQ test I score 127. Internet IQ tests are funny. I score 140s or higher.  Now, like the former responses of this thread I will mention that I don't believe in the IQ test. Before you banish...\",\n",
       " \"You know you're an ENTP when you vanish from a site for a year and a half, return, and find people are still commenting on your posts and liking your ideas/thoughts. You know you're an ENTP when you...\",\n",
       " 'http://img188.imageshack.us/img188/6422/6020d1f9da6944a6b71bbe6.jpg',\n",
       " 'http://img.adultdvdtalk.com/813a0c6243814cab84c51',\n",
       " 'I over think things sometimes. I go by the old Sherlock Holmes quote.  Perhaps, when a man has special knowledge and special powers like my  own, it rather encourages him to seek a complex...',\n",
       " 'cheshirewolf.tumblr.com  So is I :D',\n",
       " '400,000+  post',\n",
       " \"Not really; I've never thought of E/I or J/P as real functions.  I judge myself on what I use. I use Ne and Ti as my dominates. Fe for emotions and rarely Si. I also use Ni due to me strength...\",\n",
       " 'You know though. That was ingenious. After saying it I really want to try it and see what happens with me playing a first person shooter in the back while we drive around. I want to see the look on...',\n",
       " \"out of all of them the rock paper one is the best. It makes me lol.  You guys are lucky :D I'm really high up on the tumblr system.\",\n",
       " \"So did you hear about that new first person shooter game? I've been rocking the hell out of the soundtrack on my auto sound equipment that will shake the heavens. We managed to put a couple PS3's in...\",\n",
       " 'No; The way he connected things was very Ne. Ne dominates are just as aware of their environments as Se dominates.  Example: Shawn Spencer or Patrick Jane; Both ENTPs.',\n",
       " \"Well charlie I will be the first to admit I do get jealous like you do. I chalk it up to my 4w3 heart mixed with my dominate 7w8. 7s and 8s both like to be noticed. 4's like to be known (not the same...\",\n",
       " \";D I'll upload the same clip with the mic away from my mouth. Than you won't hear anything.  Ninja Assassin style but with splatter.\",\n",
       " 'Tik Tok is a really great song. As long as you can mental block out the singer. I love the beat it makes me bounce.',\n",
       " 'drop.io v1swck0  :D Mic really close to my mouth and smokin aces: assassins ball playing in the background.',\n",
       " \"Sociable =/= extrovert; I'm an extrovert and I'm not sociable. :)\",\n",
       " \"Sherlock in the movie was an ENTP. Normally he's played as a EXTJ. In the books he's an ESTJ.  As I said. The movie looked good except for it being called sherlock holmes.\",\n",
       " 'http://i817.photobucket.com/albums/zz96/kamioo/Dirtywinch.png',\n",
       " \"Oh, I never had fear of kissing a guy. I will kiss an animal too. So there was nothing to vanish. Just personal taste and me not liking it.  The guy I kissed didn't know me. It was one of those...\",\n",
       " \"Sounds pretty much like my area and what I'm going through right now trying to figure out which way I want to take my life. I want to do so many things. The biggest problem is that I know if I don't...\",\n",
       " ';D I was operating under the impression that you were female. I never looked at your boxy. Okay, I help out my gay friends all the time and one of them has developed a little crush on me. I get red...',\n",
       " \"T_T You just described me  and I'm living the worst nightmare. I'm trapped in one place with one one around. Only dull woods. If I was a serial killer this would be the perfect place but sadly I'm...\",\n",
       " 'TBH, and biased, sounds like a shadowed INFP. I think maybe he was hurt and turned ESTJ. I can tell because he has some of the typical INFP traits left over.',\n",
       " \"*Checks list* I'm sorry. It seems that you have came at a bad time. We've already reached our quota of INFJs. However, being you're female and I like females I will make you a deal. I will kick one...\",\n",
       " \"I'm ANTP (Leaning toward E). I'm easy for both ENTPs and INTPs to identify with. :)\",\n",
       " \"I also imagine ENTP's interrogations would go a little bit like Jack's from 24 except more mechanical. Rigging up shock treatment equipment in an abandoned building out of an old car batty, jumper...\",\n",
       " \"It was a compliment :) Trust me. I'm just as psychopathic :D except I have emoticons. They're just weird ones. Like laughing when I get hurt or at people running themselves over with their lawn mower...\",\n",
       " 'http://i817.photobucket.com/albums/zz96/kamioo/Thunderstorm.pnghttp://i817.photobucket.com/albums/zz96/kamioo/Thunderstormbw.png http://i817.photobucket.com/albums/zz96/kamioo/Cosmicstorm.png',\n",
       " \"No. It's like a theme for where I live and that is why I know it by heart.   http://www.youtube.com/watch?v=j5W73HaVQBg\",\n",
       " \"and I usual don't leave until the thing ends. But in the mean time. In between times. You work your thing. I'll work mine :D  ;D I'm the MBP; Pleasure to meet you.\",\n",
       " 'Damn, need to trust my instincts more I would have been closer I was going to say INFP.',\n",
       " 'EXFP? Leaning toward S with the way she responded.  :D My friends, even my gay and lesbian ones, always come to me for advice.',\n",
       " \"I bow to my entp masters ENTPs are so great. If it wasn't for ENTPs I wouldn't have been able to build what I'm building  Duck Duck  Duck  Shotgun\",\n",
       " 'What? Me? I never do that >.> <.<',\n",
       " \"Because its hard to be sad about losing someone you like when you knew you were right and give yourself a big pat on the back because you're awesome and always correct.\",\n",
       " \"Oh, you don't have to tell me that most of them are stupid. I know this. That is why I play with them and it makes me laugh. :D As I'm going to take Neuropsychology and I have a few psychologist...\",\n",
       " \":D I'm a Nightowl. I wake up between 6-7pm and stay awake till 10-11:30am.\",\n",
       " 'Personal opinion backed by theory would suggest that INTPs are the most socially difficult. While INTJs can be socially indifferent but they will also use social situations if the the need arises....',\n",
       " \"Personal stocks that I have on my desktop that I've downloaded from random stock sites and stock photobuckets.\",\n",
       " \"I'll tell you when I open photoshop.  :) Glad you like it static.\",\n",
       " ':D Thanks.',\n",
       " 'http://i817.photobucket.com/albums/zz96/kamioo/Deathgrip.png http://i817.photobucket.com/albums/zz96/kamioo/Deathgripbw.png  Made for a friend. Several hours of work. I constructed every line by...',\n",
       " \":) Static: http://i817.photobucket.com/albums/zz96/kamioo/Statickitten.png  I'll have to get to your avatar later if one of my fellow teammates doesn't.\",\n",
       " \"Psychologist don't keep me around long enough to diagnosis me. I like to toy with them. What I have diagnosis myself with and had a few psychologist friends (+ a few other friends) tell me I have is...'\"]"
      ]
     },
     "execution_count": 8,
     "metadata": {},
     "output_type": "execute_result"
    }
   ],
   "source": [
    "df['seperated_post'][1]"
   ]
  },
  {
   "cell_type": "code",
   "execution_count": 9,
   "id": "0e1719f6",
   "metadata": {},
   "outputs": [
    {
     "data": {
      "text/html": [
       "<div>\n",
       "<style scoped>\n",
       "    .dataframe tbody tr th:only-of-type {\n",
       "        vertical-align: middle;\n",
       "    }\n",
       "\n",
       "    .dataframe tbody tr th {\n",
       "        vertical-align: top;\n",
       "    }\n",
       "\n",
       "    .dataframe thead th {\n",
       "        text-align: right;\n",
       "    }\n",
       "</style>\n",
       "<table border=\"1\" class=\"dataframe\">\n",
       "  <thead>\n",
       "    <tr style=\"text-align: right;\">\n",
       "      <th></th>\n",
       "      <th>type</th>\n",
       "      <th>posts</th>\n",
       "      <th>seperated_post</th>\n",
       "      <th>num_post</th>\n",
       "      <th>id</th>\n",
       "    </tr>\n",
       "  </thead>\n",
       "  <tbody>\n",
       "    <tr>\n",
       "      <th>0</th>\n",
       "      <td>INFJ</td>\n",
       "      <td>'http://www.youtube.com/watch?v=qsXHcwe3krw|||...</td>\n",
       "      <td>['http://www.youtube.com/watch?v=qsXHcwe3krw, ...</td>\n",
       "      <td>50</td>\n",
       "      <td>0</td>\n",
       "    </tr>\n",
       "    <tr>\n",
       "      <th>1</th>\n",
       "      <td>ENTP</td>\n",
       "      <td>'I'm finding the lack of me in these posts ver...</td>\n",
       "      <td>['I'm finding the lack of me in these posts ve...</td>\n",
       "      <td>50</td>\n",
       "      <td>1</td>\n",
       "    </tr>\n",
       "    <tr>\n",
       "      <th>2</th>\n",
       "      <td>INTP</td>\n",
       "      <td>'Good one  _____   https://www.youtube.com/wat...</td>\n",
       "      <td>['Good one  _____   https://www.youtube.com/wa...</td>\n",
       "      <td>50</td>\n",
       "      <td>2</td>\n",
       "    </tr>\n",
       "    <tr>\n",
       "      <th>3</th>\n",
       "      <td>INTJ</td>\n",
       "      <td>'Dear INTP,   I enjoyed our conversation the o...</td>\n",
       "      <td>['Dear INTP,   I enjoyed our conversation the ...</td>\n",
       "      <td>50</td>\n",
       "      <td>3</td>\n",
       "    </tr>\n",
       "    <tr>\n",
       "      <th>4</th>\n",
       "      <td>ENTJ</td>\n",
       "      <td>'You're fired.|||That's another silly misconce...</td>\n",
       "      <td>['You're fired., That's another silly misconce...</td>\n",
       "      <td>50</td>\n",
       "      <td>4</td>\n",
       "    </tr>\n",
       "  </tbody>\n",
       "</table>\n",
       "</div>"
      ],
      "text/plain": [
       "   type                                              posts  \\\n",
       "0  INFJ  'http://www.youtube.com/watch?v=qsXHcwe3krw|||...   \n",
       "1  ENTP  'I'm finding the lack of me in these posts ver...   \n",
       "2  INTP  'Good one  _____   https://www.youtube.com/wat...   \n",
       "3  INTJ  'Dear INTP,   I enjoyed our conversation the o...   \n",
       "4  ENTJ  'You're fired.|||That's another silly misconce...   \n",
       "\n",
       "                                      seperated_post  num_post  id  \n",
       "0  ['http://www.youtube.com/watch?v=qsXHcwe3krw, ...        50   0  \n",
       "1  ['I'm finding the lack of me in these posts ve...        50   1  \n",
       "2  ['Good one  _____   https://www.youtube.com/wa...        50   2  \n",
       "3  ['Dear INTP,   I enjoyed our conversation the ...        50   3  \n",
       "4  ['You're fired., That's another silly misconce...        50   4  "
      ]
     },
     "execution_count": 9,
     "metadata": {},
     "output_type": "execute_result"
    }
   ],
   "source": [
    "df['id'] = df.index\n",
    "df.head()"
   ]
  },
  {
   "cell_type": "code",
   "execution_count": 10,
   "id": "1c3e51f6",
   "metadata": {},
   "outputs": [
    {
     "data": {
      "text/plain": [
       "8675"
      ]
     },
     "execution_count": 10,
     "metadata": {},
     "output_type": "execute_result"
    }
   ],
   "source": [
    "len(df)"
   ]
  },
  {
   "cell_type": "code",
   "execution_count": 11,
   "id": "834af67f",
   "metadata": {},
   "outputs": [],
   "source": [
    "expanded_df = pd.DataFrame(df['seperated_post'].tolist(), index=df['id']).stack().reset_index(level=1, drop=True).reset_index(name='idposts')"
   ]
  },
  {
   "cell_type": "code",
   "execution_count": 12,
   "id": "e1fa9e5f",
   "metadata": {},
   "outputs": [
    {
     "data": {
      "text/html": [
       "<div>\n",
       "<style scoped>\n",
       "    .dataframe tbody tr th:only-of-type {\n",
       "        vertical-align: middle;\n",
       "    }\n",
       "\n",
       "    .dataframe tbody tr th {\n",
       "        vertical-align: top;\n",
       "    }\n",
       "\n",
       "    .dataframe thead th {\n",
       "        text-align: right;\n",
       "    }\n",
       "</style>\n",
       "<table border=\"1\" class=\"dataframe\">\n",
       "  <thead>\n",
       "    <tr style=\"text-align: right;\">\n",
       "      <th></th>\n",
       "      <th>id</th>\n",
       "      <th>idposts</th>\n",
       "    </tr>\n",
       "  </thead>\n",
       "  <tbody>\n",
       "    <tr>\n",
       "      <th>0</th>\n",
       "      <td>0</td>\n",
       "      <td>'http://www.youtube.com/watch?v=qsXHcwe3krw</td>\n",
       "    </tr>\n",
       "    <tr>\n",
       "      <th>1</th>\n",
       "      <td>0</td>\n",
       "      <td>http://41.media.tumblr.com/tumblr_lfouy03PMA1q...</td>\n",
       "    </tr>\n",
       "    <tr>\n",
       "      <th>2</th>\n",
       "      <td>0</td>\n",
       "      <td>enfp and intj moments  https://www.youtube.com...</td>\n",
       "    </tr>\n",
       "    <tr>\n",
       "      <th>3</th>\n",
       "      <td>0</td>\n",
       "      <td>What has been the most life-changing experienc...</td>\n",
       "    </tr>\n",
       "    <tr>\n",
       "      <th>4</th>\n",
       "      <td>0</td>\n",
       "      <td>http://www.youtube.com/watch?v=vXZeYwwRDw8   h...</td>\n",
       "    </tr>\n",
       "  </tbody>\n",
       "</table>\n",
       "</div>"
      ],
      "text/plain": [
       "   id                                            idposts\n",
       "0   0        'http://www.youtube.com/watch?v=qsXHcwe3krw\n",
       "1   0  http://41.media.tumblr.com/tumblr_lfouy03PMA1q...\n",
       "2   0  enfp and intj moments  https://www.youtube.com...\n",
       "3   0  What has been the most life-changing experienc...\n",
       "4   0  http://www.youtube.com/watch?v=vXZeYwwRDw8   h..."
      ]
     },
     "execution_count": 12,
     "metadata": {},
     "output_type": "execute_result"
    }
   ],
   "source": [
    "expanded_df.head()"
   ]
  },
  {
   "cell_type": "code",
   "execution_count": 13,
   "id": "b77a8a8d",
   "metadata": {},
   "outputs": [],
   "source": [
    "expanded_df=expanded_df.join(df.set_index('id'), on='id', how = 'left')"
   ]
  },
  {
   "cell_type": "code",
   "execution_count": 14,
   "id": "33c5e87c",
   "metadata": {},
   "outputs": [],
   "source": [
    "expanded_df=expanded_df.drop(columns=['posts','seperated_post','num_post'])"
   ]
  },
  {
   "cell_type": "code",
   "execution_count": 15,
   "id": "aa103cc5",
   "metadata": {},
   "outputs": [
    {
     "data": {
      "text/html": [
       "<div>\n",
       "<style scoped>\n",
       "    .dataframe tbody tr th:only-of-type {\n",
       "        vertical-align: middle;\n",
       "    }\n",
       "\n",
       "    .dataframe tbody tr th {\n",
       "        vertical-align: top;\n",
       "    }\n",
       "\n",
       "    .dataframe thead th {\n",
       "        text-align: right;\n",
       "    }\n",
       "</style>\n",
       "<table border=\"1\" class=\"dataframe\">\n",
       "  <thead>\n",
       "    <tr style=\"text-align: right;\">\n",
       "      <th></th>\n",
       "      <th>id</th>\n",
       "      <th>idposts</th>\n",
       "      <th>type</th>\n",
       "    </tr>\n",
       "  </thead>\n",
       "  <tbody>\n",
       "    <tr>\n",
       "      <th>0</th>\n",
       "      <td>0</td>\n",
       "      <td>'http://www.youtube.com/watch?v=qsXHcwe3krw</td>\n",
       "      <td>INFJ</td>\n",
       "    </tr>\n",
       "    <tr>\n",
       "      <th>1</th>\n",
       "      <td>0</td>\n",
       "      <td>http://41.media.tumblr.com/tumblr_lfouy03PMA1q...</td>\n",
       "      <td>INFJ</td>\n",
       "    </tr>\n",
       "    <tr>\n",
       "      <th>2</th>\n",
       "      <td>0</td>\n",
       "      <td>enfp and intj moments  https://www.youtube.com...</td>\n",
       "      <td>INFJ</td>\n",
       "    </tr>\n",
       "    <tr>\n",
       "      <th>3</th>\n",
       "      <td>0</td>\n",
       "      <td>What has been the most life-changing experienc...</td>\n",
       "      <td>INFJ</td>\n",
       "    </tr>\n",
       "    <tr>\n",
       "      <th>4</th>\n",
       "      <td>0</td>\n",
       "      <td>http://www.youtube.com/watch?v=vXZeYwwRDw8   h...</td>\n",
       "      <td>INFJ</td>\n",
       "    </tr>\n",
       "  </tbody>\n",
       "</table>\n",
       "</div>"
      ],
      "text/plain": [
       "   id                                            idposts  type\n",
       "0   0        'http://www.youtube.com/watch?v=qsXHcwe3krw  INFJ\n",
       "1   0  http://41.media.tumblr.com/tumblr_lfouy03PMA1q...  INFJ\n",
       "2   0  enfp and intj moments  https://www.youtube.com...  INFJ\n",
       "3   0  What has been the most life-changing experienc...  INFJ\n",
       "4   0  http://www.youtube.com/watch?v=vXZeYwwRDw8   h...  INFJ"
      ]
     },
     "execution_count": 15,
     "metadata": {},
     "output_type": "execute_result"
    }
   ],
   "source": [
    "expanded_df.head()"
   ]
  },
  {
   "cell_type": "code",
   "execution_count": 16,
   "id": "321103dd",
   "metadata": {},
   "outputs": [],
   "source": [
    "def clean_text(text):\n",
    "    result = re.sub(r'http[^\\s]*', '',text)\n",
    "    result = re.sub('[0-9]+','', result).lower()\n",
    "    result = re.sub('@[a-z0-9]+', 'user', result)\n",
    "    return re.sub('[%s]*' % string.punctuation, '',result)"
   ]
  },
  {
   "cell_type": "code",
   "execution_count": 17,
   "id": "b7a2e540",
   "metadata": {},
   "outputs": [],
   "source": [
    "final_df = expanded_df.copy()"
   ]
  },
  {
   "cell_type": "code",
   "execution_count": 18,
   "id": "13f4a601",
   "metadata": {},
   "outputs": [],
   "source": [
    "final_df['idposts'] = final_df['idposts'].apply(clean_text)"
   ]
  },
  {
   "cell_type": "code",
   "execution_count": 19,
   "id": "0ac29e48",
   "metadata": {},
   "outputs": [
    {
     "data": {
      "text/html": [
       "<div>\n",
       "<style scoped>\n",
       "    .dataframe tbody tr th:only-of-type {\n",
       "        vertical-align: middle;\n",
       "    }\n",
       "\n",
       "    .dataframe tbody tr th {\n",
       "        vertical-align: top;\n",
       "    }\n",
       "\n",
       "    .dataframe thead th {\n",
       "        text-align: right;\n",
       "    }\n",
       "</style>\n",
       "<table border=\"1\" class=\"dataframe\">\n",
       "  <thead>\n",
       "    <tr style=\"text-align: right;\">\n",
       "      <th></th>\n",
       "      <th>id</th>\n",
       "      <th>idposts</th>\n",
       "      <th>type</th>\n",
       "    </tr>\n",
       "  </thead>\n",
       "  <tbody>\n",
       "    <tr>\n",
       "      <th>0</th>\n",
       "      <td>0</td>\n",
       "      <td></td>\n",
       "      <td>INFJ</td>\n",
       "    </tr>\n",
       "    <tr>\n",
       "      <th>1</th>\n",
       "      <td>0</td>\n",
       "      <td></td>\n",
       "      <td>INFJ</td>\n",
       "    </tr>\n",
       "    <tr>\n",
       "      <th>2</th>\n",
       "      <td>0</td>\n",
       "      <td>enfp and intj moments    sportscenter not top ...</td>\n",
       "      <td>INFJ</td>\n",
       "    </tr>\n",
       "    <tr>\n",
       "      <th>3</th>\n",
       "      <td>0</td>\n",
       "      <td>what has been the most lifechanging experience...</td>\n",
       "      <td>INFJ</td>\n",
       "    </tr>\n",
       "    <tr>\n",
       "      <th>4</th>\n",
       "      <td>0</td>\n",
       "      <td>on repeat for most of today</td>\n",
       "      <td>INFJ</td>\n",
       "    </tr>\n",
       "  </tbody>\n",
       "</table>\n",
       "</div>"
      ],
      "text/plain": [
       "   id                                            idposts  type\n",
       "0   0                                                     INFJ\n",
       "1   0                                                     INFJ\n",
       "2   0  enfp and intj moments    sportscenter not top ...  INFJ\n",
       "3   0  what has been the most lifechanging experience...  INFJ\n",
       "4   0                        on repeat for most of today  INFJ"
      ]
     },
     "execution_count": 19,
     "metadata": {},
     "output_type": "execute_result"
    }
   ],
   "source": [
    "final_df.head()"
   ]
  },
  {
   "cell_type": "code",
   "execution_count": 20,
   "id": "f1811919",
   "metadata": {},
   "outputs": [],
   "source": [
    "cleaned_df = final_df.groupby('id')['idposts'].apply(list).reset_index()"
   ]
  },
  {
   "cell_type": "code",
   "execution_count": 21,
   "id": "ab3f7a61",
   "metadata": {},
   "outputs": [
    {
     "data": {
      "text/html": [
       "<div>\n",
       "<style scoped>\n",
       "    .dataframe tbody tr th:only-of-type {\n",
       "        vertical-align: middle;\n",
       "    }\n",
       "\n",
       "    .dataframe tbody tr th {\n",
       "        vertical-align: top;\n",
       "    }\n",
       "\n",
       "    .dataframe thead th {\n",
       "        text-align: right;\n",
       "    }\n",
       "</style>\n",
       "<table border=\"1\" class=\"dataframe\">\n",
       "  <thead>\n",
       "    <tr style=\"text-align: right;\">\n",
       "      <th></th>\n",
       "      <th>id</th>\n",
       "      <th>idposts</th>\n",
       "    </tr>\n",
       "  </thead>\n",
       "  <tbody>\n",
       "    <tr>\n",
       "      <th>0</th>\n",
       "      <td>0</td>\n",
       "      <td>[, , enfp and intj moments    sportscenter not...</td>\n",
       "    </tr>\n",
       "    <tr>\n",
       "      <th>1</th>\n",
       "      <td>1</td>\n",
       "      <td>[im finding the lack of me in these posts very...</td>\n",
       "    </tr>\n",
       "    <tr>\n",
       "      <th>2</th>\n",
       "      <td>2</td>\n",
       "      <td>[good one     , of course to which i say i kno...</td>\n",
       "    </tr>\n",
       "    <tr>\n",
       "      <th>3</th>\n",
       "      <td>3</td>\n",
       "      <td>[dear intp   i enjoyed our conversation the ot...</td>\n",
       "    </tr>\n",
       "    <tr>\n",
       "      <th>4</th>\n",
       "      <td>4</td>\n",
       "      <td>[youre fired, thats another silly misconceptio...</td>\n",
       "    </tr>\n",
       "  </tbody>\n",
       "</table>\n",
       "</div>"
      ],
      "text/plain": [
       "   id                                            idposts\n",
       "0   0  [, , enfp and intj moments    sportscenter not...\n",
       "1   1  [im finding the lack of me in these posts very...\n",
       "2   2  [good one     , of course to which i say i kno...\n",
       "3   3  [dear intp   i enjoyed our conversation the ot...\n",
       "4   4  [youre fired, thats another silly misconceptio..."
      ]
     },
     "execution_count": 21,
     "metadata": {},
     "output_type": "execute_result"
    }
   ],
   "source": [
    "cleaned_df.head()"
   ]
  },
  {
   "cell_type": "code",
   "execution_count": 22,
   "id": "dbffbd25",
   "metadata": {},
   "outputs": [],
   "source": [
    "df['clean_post'] = cleaned_df['idposts'].apply(lambda x: ' '.join(x))"
   ]
  },
  {
   "cell_type": "code",
   "execution_count": 23,
   "id": "4f7b8a1a",
   "metadata": {},
   "outputs": [
    {
     "data": {
      "text/html": [
       "<div>\n",
       "<style scoped>\n",
       "    .dataframe tbody tr th:only-of-type {\n",
       "        vertical-align: middle;\n",
       "    }\n",
       "\n",
       "    .dataframe tbody tr th {\n",
       "        vertical-align: top;\n",
       "    }\n",
       "\n",
       "    .dataframe thead th {\n",
       "        text-align: right;\n",
       "    }\n",
       "</style>\n",
       "<table border=\"1\" class=\"dataframe\">\n",
       "  <thead>\n",
       "    <tr style=\"text-align: right;\">\n",
       "      <th></th>\n",
       "      <th>type</th>\n",
       "      <th>posts</th>\n",
       "      <th>seperated_post</th>\n",
       "      <th>num_post</th>\n",
       "      <th>id</th>\n",
       "      <th>clean_post</th>\n",
       "    </tr>\n",
       "  </thead>\n",
       "  <tbody>\n",
       "    <tr>\n",
       "      <th>0</th>\n",
       "      <td>INFJ</td>\n",
       "      <td>'http://www.youtube.com/watch?v=qsXHcwe3krw|||...</td>\n",
       "      <td>['http://www.youtube.com/watch?v=qsXHcwe3krw, ...</td>\n",
       "      <td>50</td>\n",
       "      <td>0</td>\n",
       "      <td>enfp and intj moments    sportscenter not to...</td>\n",
       "    </tr>\n",
       "    <tr>\n",
       "      <th>1</th>\n",
       "      <td>ENTP</td>\n",
       "      <td>'I'm finding the lack of me in these posts ver...</td>\n",
       "      <td>['I'm finding the lack of me in these posts ve...</td>\n",
       "      <td>50</td>\n",
       "      <td>1</td>\n",
       "      <td>im finding the lack of me in these posts very ...</td>\n",
       "    </tr>\n",
       "    <tr>\n",
       "      <th>2</th>\n",
       "      <td>INTP</td>\n",
       "      <td>'Good one  _____   https://www.youtube.com/wat...</td>\n",
       "      <td>['Good one  _____   https://www.youtube.com/wa...</td>\n",
       "      <td>50</td>\n",
       "      <td>2</td>\n",
       "      <td>good one      of course to which i say i know ...</td>\n",
       "    </tr>\n",
       "    <tr>\n",
       "      <th>3</th>\n",
       "      <td>INTJ</td>\n",
       "      <td>'Dear INTP,   I enjoyed our conversation the o...</td>\n",
       "      <td>['Dear INTP,   I enjoyed our conversation the ...</td>\n",
       "      <td>50</td>\n",
       "      <td>3</td>\n",
       "      <td>dear intp   i enjoyed our conversation the oth...</td>\n",
       "    </tr>\n",
       "    <tr>\n",
       "      <th>4</th>\n",
       "      <td>ENTJ</td>\n",
       "      <td>'You're fired.|||That's another silly misconce...</td>\n",
       "      <td>['You're fired., That's another silly misconce...</td>\n",
       "      <td>50</td>\n",
       "      <td>4</td>\n",
       "      <td>youre fired thats another silly misconception ...</td>\n",
       "    </tr>\n",
       "  </tbody>\n",
       "</table>\n",
       "</div>"
      ],
      "text/plain": [
       "   type                                              posts  \\\n",
       "0  INFJ  'http://www.youtube.com/watch?v=qsXHcwe3krw|||...   \n",
       "1  ENTP  'I'm finding the lack of me in these posts ver...   \n",
       "2  INTP  'Good one  _____   https://www.youtube.com/wat...   \n",
       "3  INTJ  'Dear INTP,   I enjoyed our conversation the o...   \n",
       "4  ENTJ  'You're fired.|||That's another silly misconce...   \n",
       "\n",
       "                                      seperated_post  num_post  id  \\\n",
       "0  ['http://www.youtube.com/watch?v=qsXHcwe3krw, ...        50   0   \n",
       "1  ['I'm finding the lack of me in these posts ve...        50   1   \n",
       "2  ['Good one  _____   https://www.youtube.com/wa...        50   2   \n",
       "3  ['Dear INTP,   I enjoyed our conversation the ...        50   3   \n",
       "4  ['You're fired., That's another silly misconce...        50   4   \n",
       "\n",
       "                                          clean_post  \n",
       "0    enfp and intj moments    sportscenter not to...  \n",
       "1  im finding the lack of me in these posts very ...  \n",
       "2  good one      of course to which i say i know ...  \n",
       "3  dear intp   i enjoyed our conversation the oth...  \n",
       "4  youre fired thats another silly misconception ...  "
      ]
     },
     "execution_count": 23,
     "metadata": {},
     "output_type": "execute_result"
    }
   ],
   "source": [
    "df.head()"
   ]
  },
  {
   "cell_type": "code",
   "execution_count": 24,
   "id": "d9cf4bc9",
   "metadata": {},
   "outputs": [],
   "source": [
    "vectorizer = CountVectorizer(stop_words = ['and','the','to','of',\n",
    "                                           'infj','entp','intp','intj',\n",
    "                                           'entj','enfj','infp','enfp',\n",
    "                                           'isfp','istp','isfj','istj',\n",
    "                                           'estp','esfp','estj','esfj',\n",
    "                                           'infjs','entps','intps','intjs',\n",
    "                                           'entjs','enfjs','infps','enfps',\n",
    "                                           'isfps','istps','isfjs','istjs',\n",
    "                                           'estps','esfps','estjs','esfjs'],\n",
    "                            max_features=1500,\n",
    "                            analyzer=\"word\",\n",
    "                            max_df=0.8,\n",
    "                            min_df=0.1)"
   ]
  },
  {
   "cell_type": "code",
   "execution_count": 25,
   "id": "f0d5bdbf",
   "metadata": {},
   "outputs": [],
   "source": [
    "corpus = df['clean_post'].values.reshape(1,-1).tolist()[0]\n",
    "vectorizer.fit(corpus)\n",
    "X_cnt = vectorizer.fit_transform(corpus)"
   ]
  },
  {
   "cell_type": "code",
   "execution_count": 26,
   "id": "cc7e23f6",
   "metadata": {},
   "outputs": [],
   "source": [
    "tfizer = TfidfTransformer()\n",
    "tfizer.fit(X_cnt)\n",
    "X = tfizer.fit_transform(X_cnt).toarray()"
   ]
  },
  {
   "cell_type": "code",
   "execution_count": 27,
   "id": "462e7356",
   "metadata": {},
   "outputs": [
    {
     "data": {
      "text/plain": [
       "(8675, 871)"
      ]
     },
     "execution_count": 27,
     "metadata": {},
     "output_type": "execute_result"
    }
   ],
   "source": [
    "X.shape"
   ]
  },
  {
   "cell_type": "code",
   "execution_count": 28,
   "id": "bf4c8dba",
   "metadata": {},
   "outputs": [],
   "source": [
    "all_words = vectorizer.get_feature_names()\n",
    "n_words = len(all_words)"
   ]
  },
  {
   "cell_type": "code",
   "execution_count": 29,
   "id": "92b368c8",
   "metadata": {},
   "outputs": [],
   "source": [
    "df['fav_world'] = df['type'].apply(lambda x: 1 if x[0] == 'E' else 0)\n",
    "df['info'] = df['type'].apply(lambda x: 1 if x[1] == 'S' else 0)\n",
    "df['decision'] = df['type'].apply(lambda x: 1 if x[2] == 'T' else 0)\n",
    "df['structure'] = df['type'].apply(lambda x: 1 if x[3] == 'J' else 0)"
   ]
  },
  {
   "cell_type": "code",
   "execution_count": 30,
   "id": "3b3736c3",
   "metadata": {
    "scrolled": false
   },
   "outputs": [
    {
     "data": {
      "text/html": [
       "<div>\n",
       "<style scoped>\n",
       "    .dataframe tbody tr th:only-of-type {\n",
       "        vertical-align: middle;\n",
       "    }\n",
       "\n",
       "    .dataframe tbody tr th {\n",
       "        vertical-align: top;\n",
       "    }\n",
       "\n",
       "    .dataframe thead th {\n",
       "        text-align: right;\n",
       "    }\n",
       "</style>\n",
       "<table border=\"1\" class=\"dataframe\">\n",
       "  <thead>\n",
       "    <tr style=\"text-align: right;\">\n",
       "      <th></th>\n",
       "      <th>type</th>\n",
       "      <th>posts</th>\n",
       "      <th>seperated_post</th>\n",
       "      <th>num_post</th>\n",
       "      <th>id</th>\n",
       "      <th>clean_post</th>\n",
       "      <th>fav_world</th>\n",
       "      <th>info</th>\n",
       "      <th>decision</th>\n",
       "      <th>structure</th>\n",
       "    </tr>\n",
       "  </thead>\n",
       "  <tbody>\n",
       "    <tr>\n",
       "      <th>0</th>\n",
       "      <td>INFJ</td>\n",
       "      <td>'http://www.youtube.com/watch?v=qsXHcwe3krw|||...</td>\n",
       "      <td>['http://www.youtube.com/watch?v=qsXHcwe3krw, ...</td>\n",
       "      <td>50</td>\n",
       "      <td>0</td>\n",
       "      <td>enfp and intj moments    sportscenter not to...</td>\n",
       "      <td>0</td>\n",
       "      <td>0</td>\n",
       "      <td>0</td>\n",
       "      <td>1</td>\n",
       "    </tr>\n",
       "    <tr>\n",
       "      <th>1</th>\n",
       "      <td>ENTP</td>\n",
       "      <td>'I'm finding the lack of me in these posts ver...</td>\n",
       "      <td>['I'm finding the lack of me in these posts ve...</td>\n",
       "      <td>50</td>\n",
       "      <td>1</td>\n",
       "      <td>im finding the lack of me in these posts very ...</td>\n",
       "      <td>1</td>\n",
       "      <td>0</td>\n",
       "      <td>1</td>\n",
       "      <td>0</td>\n",
       "    </tr>\n",
       "    <tr>\n",
       "      <th>2</th>\n",
       "      <td>INTP</td>\n",
       "      <td>'Good one  _____   https://www.youtube.com/wat...</td>\n",
       "      <td>['Good one  _____   https://www.youtube.com/wa...</td>\n",
       "      <td>50</td>\n",
       "      <td>2</td>\n",
       "      <td>good one      of course to which i say i know ...</td>\n",
       "      <td>0</td>\n",
       "      <td>0</td>\n",
       "      <td>1</td>\n",
       "      <td>0</td>\n",
       "    </tr>\n",
       "    <tr>\n",
       "      <th>3</th>\n",
       "      <td>INTJ</td>\n",
       "      <td>'Dear INTP,   I enjoyed our conversation the o...</td>\n",
       "      <td>['Dear INTP,   I enjoyed our conversation the ...</td>\n",
       "      <td>50</td>\n",
       "      <td>3</td>\n",
       "      <td>dear intp   i enjoyed our conversation the oth...</td>\n",
       "      <td>0</td>\n",
       "      <td>0</td>\n",
       "      <td>1</td>\n",
       "      <td>1</td>\n",
       "    </tr>\n",
       "    <tr>\n",
       "      <th>4</th>\n",
       "      <td>ENTJ</td>\n",
       "      <td>'You're fired.|||That's another silly misconce...</td>\n",
       "      <td>['You're fired., That's another silly misconce...</td>\n",
       "      <td>50</td>\n",
       "      <td>4</td>\n",
       "      <td>youre fired thats another silly misconception ...</td>\n",
       "      <td>1</td>\n",
       "      <td>0</td>\n",
       "      <td>1</td>\n",
       "      <td>1</td>\n",
       "    </tr>\n",
       "  </tbody>\n",
       "</table>\n",
       "</div>"
      ],
      "text/plain": [
       "   type                                              posts  \\\n",
       "0  INFJ  'http://www.youtube.com/watch?v=qsXHcwe3krw|||...   \n",
       "1  ENTP  'I'm finding the lack of me in these posts ver...   \n",
       "2  INTP  'Good one  _____   https://www.youtube.com/wat...   \n",
       "3  INTJ  'Dear INTP,   I enjoyed our conversation the o...   \n",
       "4  ENTJ  'You're fired.|||That's another silly misconce...   \n",
       "\n",
       "                                      seperated_post  num_post  id  \\\n",
       "0  ['http://www.youtube.com/watch?v=qsXHcwe3krw, ...        50   0   \n",
       "1  ['I'm finding the lack of me in these posts ve...        50   1   \n",
       "2  ['Good one  _____   https://www.youtube.com/wa...        50   2   \n",
       "3  ['Dear INTP,   I enjoyed our conversation the ...        50   3   \n",
       "4  ['You're fired., That's another silly misconce...        50   4   \n",
       "\n",
       "                                          clean_post  fav_world  info  \\\n",
       "0    enfp and intj moments    sportscenter not to...          0     0   \n",
       "1  im finding the lack of me in these posts very ...          1     0   \n",
       "2  good one      of course to which i say i know ...          0     0   \n",
       "3  dear intp   i enjoyed our conversation the oth...          0     0   \n",
       "4  youre fired thats another silly misconception ...          1     0   \n",
       "\n",
       "   decision  structure  \n",
       "0         0          1  \n",
       "1         1          0  \n",
       "2         1          0  \n",
       "3         1          1  \n",
       "4         1          1  "
      ]
     },
     "execution_count": 30,
     "metadata": {},
     "output_type": "execute_result"
    }
   ],
   "source": [
    "df.head()"
   ]
  },
  {
   "cell_type": "code",
   "execution_count": 31,
   "id": "924a247b",
   "metadata": {},
   "outputs": [],
   "source": [
    "X_df = pd.DataFrame.from_dict({w: X[:, i] for i, w in enumerate(all_words)})"
   ]
  },
  {
   "cell_type": "code",
   "execution_count": 32,
   "id": "31ef99a9",
   "metadata": {},
   "outputs": [],
   "source": [
    "def sub_classifier(keyword):\n",
    "    y_f = df[keyword].values\n",
    "    X_f_train, X_f_test, y_f_train, y_f_test = train_test_split(X_df, y_f, stratify=y_f)\n",
    "    f_classifier = XGBClassifier()\n",
    "    print(\">>> Train classifier ... \")\n",
    "    f_classifier.fit(X_f_train, y_f_train, \n",
    "                     early_stopping_rounds = 10, \n",
    "                     eval_metric=\"logloss\", \n",
    "                     eval_set=[(X_f_test, y_f_test)], verbose=False)\n",
    "    print(\">>> Finish training\")\n",
    "    print(\"%s:\" % keyword, sum(y_f)/len(y_f))\n",
    "    print(\"Accuracy %s\" % keyword, accuracy_score(y_f_test, f_classifier.predict(X_f_test)))\n",
    "    print(\"AUC %s\" % keyword, roc_auc_score(y_f_test, f_classifier.predict_proba(X_f_test)[:,1]))\n",
    "    return f_classifier"
   ]
  },
  {
   "cell_type": "code",
   "execution_count": 33,
   "id": "10d05d92",
   "metadata": {},
   "outputs": [
    {
     "name": "stdout",
     "output_type": "stream",
     "text": [
      ">>> Train classifier ... \n"
     ]
    },
    {
     "name": "stderr",
     "output_type": "stream",
     "text": [
      "c:\\users\\hp\\appdata\\local\\programs\\python\\python39\\lib\\site-packages\\xgboost\\sklearn.py:1146: UserWarning: The use of label encoder in XGBClassifier is deprecated and will be removed in a future release. To remove this warning, do the following: 1) Pass option use_label_encoder=False when constructing XGBClassifier object; and 2) Encode your labels (y) as integers starting with 0, i.e. 0, 1, 2, ..., [num_class - 1].\n",
      "  warnings.warn(label_encoder_deprecation_msg, UserWarning)\n"
     ]
    },
    {
     "name": "stdout",
     "output_type": "stream",
     "text": [
      ">>> Finish training\n",
      "fav_world: 0.2304322766570605\n",
      "Accuracy fav_world 0.7584140156754264\n",
      "AUC fav_world 0.6210365488316356\n"
     ]
    }
   ],
   "source": [
    "fav_classifier = sub_classifier('fav_world')"
   ]
  },
  {
   "cell_type": "code",
   "execution_count": 34,
   "id": "78758f6a",
   "metadata": {},
   "outputs": [
    {
     "name": "stdout",
     "output_type": "stream",
     "text": [
      ">>> Train classifier ... \n"
     ]
    },
    {
     "name": "stderr",
     "output_type": "stream",
     "text": [
      "c:\\users\\hp\\appdata\\local\\programs\\python\\python39\\lib\\site-packages\\xgboost\\sklearn.py:1146: UserWarning: The use of label encoder in XGBClassifier is deprecated and will be removed in a future release. To remove this warning, do the following: 1) Pass option use_label_encoder=False when constructing XGBClassifier object; and 2) Encode your labels (y) as integers starting with 0, i.e. 0, 1, 2, ..., [num_class - 1].\n",
      "  warnings.warn(label_encoder_deprecation_msg, UserWarning)\n"
     ]
    },
    {
     "name": "stdout",
     "output_type": "stream",
     "text": [
      ">>> Finish training\n",
      "info: 0.13798270893371758\n",
      "Accuracy info 0.8593822037805441\n",
      "AUC info 0.6523956861552769\n"
     ]
    }
   ],
   "source": [
    "info_classifier = sub_classifier('info')"
   ]
  },
  {
   "cell_type": "code",
   "execution_count": 35,
   "id": "a269e548",
   "metadata": {},
   "outputs": [
    {
     "name": "stdout",
     "output_type": "stream",
     "text": [
      ">>> Train classifier ... \n"
     ]
    },
    {
     "name": "stderr",
     "output_type": "stream",
     "text": [
      "c:\\users\\hp\\appdata\\local\\programs\\python\\python39\\lib\\site-packages\\xgboost\\sklearn.py:1146: UserWarning: The use of label encoder in XGBClassifier is deprecated and will be removed in a future release. To remove this warning, do the following: 1) Pass option use_label_encoder=False when constructing XGBClassifier object; and 2) Encode your labels (y) as integers starting with 0, i.e. 0, 1, 2, ..., [num_class - 1].\n",
      "  warnings.warn(label_encoder_deprecation_msg, UserWarning)\n"
     ]
    },
    {
     "name": "stdout",
     "output_type": "stream",
     "text": [
      ">>> Finish training\n",
      "decision: 0.4589048991354467\n",
      "Accuracy decision 0.7206085753803596\n",
      "AUC decision 0.788873669882633\n"
     ]
    }
   ],
   "source": [
    "decision_classifier = sub_classifier('decision')"
   ]
  },
  {
   "cell_type": "code",
   "execution_count": 36,
   "id": "6afb1c0f",
   "metadata": {},
   "outputs": [
    {
     "name": "stdout",
     "output_type": "stream",
     "text": [
      ">>> Train classifier ... \n"
     ]
    },
    {
     "name": "stderr",
     "output_type": "stream",
     "text": [
      "c:\\users\\hp\\appdata\\local\\programs\\python\\python39\\lib\\site-packages\\xgboost\\sklearn.py:1146: UserWarning: The use of label encoder in XGBClassifier is deprecated and will be removed in a future release. To remove this warning, do the following: 1) Pass option use_label_encoder=False when constructing XGBClassifier object; and 2) Encode your labels (y) as integers starting with 0, i.e. 0, 1, 2, ..., [num_class - 1].\n",
      "  warnings.warn(label_encoder_deprecation_msg, UserWarning)\n"
     ]
    },
    {
     "name": "stdout",
     "output_type": "stream",
     "text": [
      ">>> Finish training\n",
      "structure: 0.395850144092219\n",
      "Accuracy structure 0.6247118487782388\n",
      "AUC structure 0.615007686907375\n"
     ]
    }
   ],
   "source": [
    "str_classifier = sub_classifier('structure')"
   ]
  },
  {
   "cell_type": "code",
   "execution_count": 37,
   "id": "1f9d026f",
   "metadata": {},
   "outputs": [],
   "source": [
    "test_string = 'I like to observe, think, and analyze to find cons and pros. Based on my analysis, I like to create a solution based on cost effective analysis to maximize the resource to improve the performance. I like talking to my friends. I like to read and learn. I simulate a lot of different situations to see how I would react. I read or watch a lot to improve myself. I love talking to them and seeing what they have been up to. I have a variety of friends, and I appreciate they all experience different things. Listening to their emotion, experience, and life is always great.'.lower()\n",
    "final_test = tfizer.transform(vectorizer.transform([test_string])).toarray()"
   ]
  },
  {
   "cell_type": "code",
   "execution_count": 38,
   "id": "60b60da7",
   "metadata": {},
   "outputs": [],
   "source": [
    "test_point = pd.DataFrame.from_dict({w: final_test[:, i] for i, w in enumerate(all_words)})"
   ]
  },
  {
   "cell_type": "code",
   "execution_count": 39,
   "id": "7d036df3",
   "metadata": {},
   "outputs": [
    {
     "name": "stdout",
     "output_type": "stream",
     "text": [
      "[[0.83465314 0.16534688]] I\n"
     ]
    }
   ],
   "source": [
    "pred = fav_classifier.predict_proba(test_point) #[I, E]\n",
    "labels = ['I','E']\n",
    "print(pred, labels[np.argmax(pred)])"
   ]
  },
  {
   "cell_type": "code",
   "execution_count": 40,
   "id": "66a0b577",
   "metadata": {},
   "outputs": [
    {
     "name": "stdout",
     "output_type": "stream",
     "text": [
      "[[0.6542915 0.3457085]] N\n"
     ]
    }
   ],
   "source": [
    "pred = info_classifier.predict_proba(test_point) #[N,S]\n",
    "labels = ['N','S']\n",
    "print(pred, labels[np.argmax(pred)])"
   ]
  },
  {
   "cell_type": "code",
   "execution_count": 41,
   "id": "863e6d69",
   "metadata": {},
   "outputs": [
    {
     "name": "stdout",
     "output_type": "stream",
     "text": [
      "[[0.6702283 0.3297717]] F\n"
     ]
    }
   ],
   "source": [
    "pred = decision_classifier.predict_proba(test_point) #[F, T]\n",
    "labels = ['F','T']\n",
    "print(pred, labels[np.argmax(pred)])"
   ]
  },
  {
   "cell_type": "code",
   "execution_count": 42,
   "id": "d015330f",
   "metadata": {},
   "outputs": [
    {
     "name": "stdout",
     "output_type": "stream",
     "text": [
      "[[0.5569639  0.44303608]] P\n"
     ]
    }
   ],
   "source": [
    "pred = str_classifier.predict_proba(test_point) #[P, J]\n",
    "labels = ['P','J']\n",
    "print(pred, labels[np.argmax(pred)])"
   ]
  },
  {
   "cell_type": "code",
   "execution_count": null,
   "id": "ceb8e380",
   "metadata": {},
   "outputs": [],
   "source": []
  }
 ],
 "metadata": {
  "kernelspec": {
   "display_name": "Python 3",
   "language": "python",
   "name": "python3"
  },
  "language_info": {
   "codemirror_mode": {
    "name": "ipython",
    "version": 3
   },
   "file_extension": ".py",
   "mimetype": "text/x-python",
   "name": "python",
   "nbconvert_exporter": "python",
   "pygments_lexer": "ipython3",
   "version": "3.9.4"
  }
 },
 "nbformat": 4,
 "nbformat_minor": 5
}
